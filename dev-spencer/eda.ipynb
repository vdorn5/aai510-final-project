{
 "cells": [
  {
   "cell_type": "markdown",
   "id": "2d3a1b41",
   "metadata": {},
   "source": [
    "## Load Dataset"
   ]
  },
  {
   "cell_type": "code",
   "execution_count": 1,
   "id": "9d0e43ab",
   "metadata": {},
   "outputs": [
    {
     "name": "stdout",
     "output_type": "stream",
     "text": [
      "        age     sex            dzgroup             dzclass  num.co   edu  \\\n",
      "0  62.84998    male        Lung Cancer              Cancer       0  11.0   \n",
      "1  60.33899  female          Cirrhosis  COPD/CHF/Cirrhosis       2  12.0   \n",
      "2  52.74698  female          Cirrhosis  COPD/CHF/Cirrhosis       2  12.0   \n",
      "3  42.38498  female        Lung Cancer              Cancer       2  11.0   \n",
      "4  79.88495  female  ARF/MOSF w/Sepsis            ARF/MOSF       1   NaN   \n",
      "\n",
      "       income  scoma  charges  totcst  ...      bili      crea    sod  \\\n",
      "0    $11-$25k    0.0   9715.0     NaN  ...  0.199982  1.199951  141.0   \n",
      "1    $11-$25k   44.0  34496.0     NaN  ...       NaN  5.500000  132.0   \n",
      "2  under $11k    0.0  41094.0     NaN  ...  2.199707  2.000000  134.0   \n",
      "3  under $11k    0.0   3075.0     NaN  ...       NaN  0.799927  139.0   \n",
      "4         NaN   26.0  50127.0     NaN  ...       NaN  0.799927  143.0   \n",
      "\n",
      "         ph  glucose  bun  urine  adlp  adls  adlsc  \n",
      "0  7.459961      NaN  NaN    NaN   7.0   7.0    7.0  \n",
      "1  7.250000      NaN  NaN    NaN   NaN   1.0    1.0  \n",
      "2  7.459961      NaN  NaN    NaN   1.0   0.0    0.0  \n",
      "3       NaN      NaN  NaN    NaN   0.0   0.0    0.0  \n",
      "4  7.509766      NaN  NaN    NaN   NaN   2.0    2.0  \n",
      "\n",
      "[5 rows x 42 columns]\n",
      "   death  hospdead                sfdm2\n",
      "0      0         0                  NaN\n",
      "1      1         1     <2 mo. follow-up\n",
      "2      1         0     <2 mo. follow-up\n",
      "3      1         0  no(M2 and SIP pres)\n",
      "4      0         0  no(M2 and SIP pres)\n"
     ]
    }
   ],
   "source": [
    "from ucimlrepo import fetch_ucirepo\n",
    "\n",
    "# fetch dataset support2\n",
    "data = fetch_ucirepo(id=880) \n",
    "\n",
    "# data (as pandas dataframes) \n",
    "X = data.data.features \n",
    "y = data.data.targets \n",
    "\n",
    "print(X.head())\n",
    "print(y.head())"
   ]
  },
  {
   "cell_type": "code",
   "execution_count": null,
   "id": "fcbb39eb-38c4-47a5-b383-08733d2b42d3",
   "metadata": {},
   "outputs": [],
   "source": []
  }
 ],
 "metadata": {
  "kernelspec": {
   "display_name": "Python 3 (ipykernel)",
   "language": "python",
   "name": "python3"
  },
  "language_info": {
   "codemirror_mode": {
    "name": "ipython",
    "version": 3
   },
   "file_extension": ".py",
   "mimetype": "text/x-python",
   "name": "python",
   "nbconvert_exporter": "python",
   "pygments_lexer": "ipython3",
   "version": "3.11.12"
  }
 },
 "nbformat": 4,
 "nbformat_minor": 5
}
