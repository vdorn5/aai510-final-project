{
 "cells": [
  {
   "cell_type": "code",
   "execution_count": null,
   "id": "ecb55838",
   "metadata": {},
   "outputs": [],
   "source": [
    "from ucimlrepo import fetch_ucirepo\n",
    "\n",
    "# fetch dataset support2\n",
    "data = fetch_ucirepo(id=880) \n",
    "\n",
    "# data (as pandas dataframes) \n",
    "X = data.data.features \n",
    "y = data.data.targets \n",
    "\n",
    "print(X.head())\n",
    "print(y.head())"
   ]
  }
 ],
 "metadata": {
  "language_info": {
   "name": "python"
  }
 },
 "nbformat": 4,
 "nbformat_minor": 5
}
